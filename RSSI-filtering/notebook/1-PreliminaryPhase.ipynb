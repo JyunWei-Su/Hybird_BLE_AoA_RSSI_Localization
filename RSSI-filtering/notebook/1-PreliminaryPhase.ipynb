{
 "cells": [
  {
   "cell_type": "markdown",
   "id": "dcd766f3",
   "metadata": {},
   "source": [
    "# Preliminary Phase"
   ]
  },
  {
   "cell_type": "markdown",
   "id": "ac341a35",
   "metadata": {},
   "source": [
    "In this phase, we analyze the shape of the data set to understand if some data preparation processis needed."
   ]
  },
  {
   "cell_type": "markdown",
   "id": "b45e188e",
   "metadata": {},
   "source": [
    "Importing required libraries and reading the data from file."
   ]
  },
  {
   "cell_type": "code",
   "execution_count": 13,
   "id": "b58ec102",
   "metadata": {},
   "outputs": [],
   "source": [
    "import pandas as pd \n",
    "import numpy as np \n",
    "import matplotlib.pyplot as plt \n",
    "df = pd.read_csv('../dataset/raw_data.csv')"
   ]
  },
  {
   "cell_type": "markdown",
   "id": "d622a0ad",
   "metadata": {},
   "source": [
    "Understanding the format of data."
   ]
  },
  {
   "cell_type": "code",
   "execution_count": 14,
   "id": "6c67e9bf",
   "metadata": {},
   "outputs": [
    {
     "data": {
      "text/html": [
       "<div>\n",
       "<style scoped>\n",
       "    .dataframe tbody tr th:only-of-type {\n",
       "        vertical-align: middle;\n",
       "    }\n",
       "\n",
       "    .dataframe tbody tr th {\n",
       "        vertical-align: top;\n",
       "    }\n",
       "\n",
       "    .dataframe thead th {\n",
       "        text-align: right;\n",
       "    }\n",
       "</style>\n",
       "<table border=\"1\" class=\"dataframe\">\n",
       "  <thead>\n",
       "    <tr style=\"text-align: right;\">\n",
       "      <th></th>\n",
       "      <th>name</th>\n",
       "      <th>locationStatus</th>\n",
       "      <th>timestamp</th>\n",
       "      <th>rssiOne</th>\n",
       "      <th>rssiTwo</th>\n",
       "    </tr>\n",
       "  </thead>\n",
       "  <tbody>\n",
       "    <tr>\n",
       "      <th>0</th>\n",
       "      <td>FF:FF:C0:21:F1:31</td>\n",
       "      <td>INSIDE</td>\n",
       "      <td>1551367495147</td>\n",
       "      <td>-90</td>\n",
       "      <td>-90</td>\n",
       "    </tr>\n",
       "    <tr>\n",
       "      <th>1</th>\n",
       "      <td>FF:FF:C0:21:EF:BA</td>\n",
       "      <td>INSIDE</td>\n",
       "      <td>1551367496681</td>\n",
       "      <td>-93</td>\n",
       "      <td>-93</td>\n",
       "    </tr>\n",
       "    <tr>\n",
       "      <th>2</th>\n",
       "      <td>FF:FF:C0:21:EF:1A</td>\n",
       "      <td>INSIDE</td>\n",
       "      <td>1551367495114</td>\n",
       "      <td>-88</td>\n",
       "      <td>-88</td>\n",
       "    </tr>\n",
       "    <tr>\n",
       "      <th>3</th>\n",
       "      <td>FF:FF:C0:21:EF:BF</td>\n",
       "      <td>INSIDE</td>\n",
       "      <td>1551367497508</td>\n",
       "      <td>-82</td>\n",
       "      <td>-82</td>\n",
       "    </tr>\n",
       "    <tr>\n",
       "      <th>4</th>\n",
       "      <td>FF:FF:C0:21:F1:31</td>\n",
       "      <td>INSIDE</td>\n",
       "      <td>1551367496906</td>\n",
       "      <td>-94</td>\n",
       "      <td>-94</td>\n",
       "    </tr>\n",
       "    <tr>\n",
       "      <th>...</th>\n",
       "      <td>...</td>\n",
       "      <td>...</td>\n",
       "      <td>...</td>\n",
       "      <td>...</td>\n",
       "      <td>...</td>\n",
       "    </tr>\n",
       "    <tr>\n",
       "      <th>13579</th>\n",
       "      <td>FF:FF:C2:1D:9B:71</td>\n",
       "      <td>OUTSIDE</td>\n",
       "      <td>1551368693080</td>\n",
       "      <td>-93</td>\n",
       "      <td>-93</td>\n",
       "    </tr>\n",
       "    <tr>\n",
       "      <th>13580</th>\n",
       "      <td>FF:FF:C2:1D:9B:52</td>\n",
       "      <td>OUTSIDE</td>\n",
       "      <td>1551368694572</td>\n",
       "      <td>-80</td>\n",
       "      <td>-80</td>\n",
       "    </tr>\n",
       "    <tr>\n",
       "      <th>13581</th>\n",
       "      <td>FF:FF:C0:22:3D:C1</td>\n",
       "      <td>OUTSIDE</td>\n",
       "      <td>1551368694032</td>\n",
       "      <td>-89</td>\n",
       "      <td>-89</td>\n",
       "    </tr>\n",
       "    <tr>\n",
       "      <th>13582</th>\n",
       "      <td>FF:FF:C2:1D:9B:54</td>\n",
       "      <td>OUTSIDE</td>\n",
       "      <td>1551368694210</td>\n",
       "      <td>-78</td>\n",
       "      <td>-78</td>\n",
       "    </tr>\n",
       "    <tr>\n",
       "      <th>13583</th>\n",
       "      <td>FF:FF:C2:1D:9B:71</td>\n",
       "      <td>OUTSIDE</td>\n",
       "      <td>1551368694011</td>\n",
       "      <td>-91</td>\n",
       "      <td>-91</td>\n",
       "    </tr>\n",
       "  </tbody>\n",
       "</table>\n",
       "<p>13584 rows × 5 columns</p>\n",
       "</div>"
      ],
      "text/plain": [
       "                    name locationStatus      timestamp  rssiOne  rssiTwo\n",
       "0      FF:FF:C0:21:F1:31         INSIDE  1551367495147      -90      -90\n",
       "1      FF:FF:C0:21:EF:BA         INSIDE  1551367496681      -93      -93\n",
       "2      FF:FF:C0:21:EF:1A         INSIDE  1551367495114      -88      -88\n",
       "3      FF:FF:C0:21:EF:BF         INSIDE  1551367497508      -82      -82\n",
       "4      FF:FF:C0:21:F1:31         INSIDE  1551367496906      -94      -94\n",
       "...                  ...            ...            ...      ...      ...\n",
       "13579  FF:FF:C2:1D:9B:71        OUTSIDE  1551368693080      -93      -93\n",
       "13580  FF:FF:C2:1D:9B:52        OUTSIDE  1551368694572      -80      -80\n",
       "13581  FF:FF:C0:22:3D:C1        OUTSIDE  1551368694032      -89      -89\n",
       "13582  FF:FF:C2:1D:9B:54        OUTSIDE  1551368694210      -78      -78\n",
       "13583  FF:FF:C2:1D:9B:71        OUTSIDE  1551368694011      -91      -91\n",
       "\n",
       "[13584 rows x 5 columns]"
      ]
     },
     "execution_count": 14,
     "metadata": {},
     "output_type": "execute_result"
    }
   ],
   "source": [
    "df"
   ]
  },
  {
   "cell_type": "code",
   "execution_count": 15,
   "id": "b32b3bcc",
   "metadata": {},
   "outputs": [
    {
     "data": {
      "text/plain": [
       "name              False\n",
       "locationStatus    False\n",
       "timestamp         False\n",
       "rssiOne           False\n",
       "rssiTwo           False\n",
       "dtype: bool"
      ]
     },
     "execution_count": 15,
     "metadata": {},
     "output_type": "execute_result"
    }
   ],
   "source": [
    "df.isna().any()"
   ]
  },
  {
   "cell_type": "markdown",
   "id": "bd1da488",
   "metadata": {},
   "source": [
    "The data set has 5 column, 13.584 rows and does not contains null values."
   ]
  },
  {
   "cell_type": "markdown",
   "id": "282f2688",
   "metadata": {},
   "source": [
    "## Data Preparation"
   ]
  },
  {
   "cell_type": "markdown",
   "id": "c0872078",
   "metadata": {},
   "source": [
    "### Timestamp"
   ]
  },
  {
   "cell_type": "markdown",
   "id": "82f3a9e9",
   "metadata": {},
   "source": [
    "The timestamp needs to be transformed from milliseconds form to a standard format that can be used as the index. Specifically, we apply the structure based on hours, minutes, seconds, and milliseconds (hh:mm:ss.ss)."
   ]
  },
  {
   "cell_type": "code",
   "execution_count": 16,
   "id": "a0e6c3be",
   "metadata": {},
   "outputs": [],
   "source": [
    "df['Time'] = pd.to_datetime(df['timestamp'], unit='ms').dt.strftime('%H:%M:%S.%f')"
   ]
  },
  {
   "cell_type": "markdown",
   "id": "32cedb21",
   "metadata": {},
   "source": [
    "### Data cleaning"
   ]
  },
  {
   "cell_type": "markdown",
   "id": "0d0e3a04",
   "metadata": {},
   "source": [
    "We remove the columns that are not required for our scope. Specifically, the name of the beacon, the location status, and the timestamp in milliseconds"
   ]
  },
  {
   "cell_type": "code",
   "execution_count": 17,
   "id": "34db023a",
   "metadata": {},
   "outputs": [
    {
     "data": {
      "text/html": [
       "<div>\n",
       "<style scoped>\n",
       "    .dataframe tbody tr th:only-of-type {\n",
       "        vertical-align: middle;\n",
       "    }\n",
       "\n",
       "    .dataframe tbody tr th {\n",
       "        vertical-align: top;\n",
       "    }\n",
       "\n",
       "    .dataframe thead th {\n",
       "        text-align: right;\n",
       "    }\n",
       "</style>\n",
       "<table border=\"1\" class=\"dataframe\">\n",
       "  <thead>\n",
       "    <tr style=\"text-align: right;\">\n",
       "      <th></th>\n",
       "      <th>rssiOne</th>\n",
       "      <th>rssiTwo</th>\n",
       "      <th>Time</th>\n",
       "    </tr>\n",
       "  </thead>\n",
       "  <tbody>\n",
       "    <tr>\n",
       "      <th>0</th>\n",
       "      <td>-90</td>\n",
       "      <td>-90</td>\n",
       "      <td>15:24:55.147000</td>\n",
       "    </tr>\n",
       "    <tr>\n",
       "      <th>1</th>\n",
       "      <td>-93</td>\n",
       "      <td>-93</td>\n",
       "      <td>15:24:56.681000</td>\n",
       "    </tr>\n",
       "    <tr>\n",
       "      <th>2</th>\n",
       "      <td>-88</td>\n",
       "      <td>-88</td>\n",
       "      <td>15:24:55.114000</td>\n",
       "    </tr>\n",
       "    <tr>\n",
       "      <th>3</th>\n",
       "      <td>-82</td>\n",
       "      <td>-82</td>\n",
       "      <td>15:24:57.508000</td>\n",
       "    </tr>\n",
       "    <tr>\n",
       "      <th>4</th>\n",
       "      <td>-94</td>\n",
       "      <td>-94</td>\n",
       "      <td>15:24:56.906000</td>\n",
       "    </tr>\n",
       "    <tr>\n",
       "      <th>...</th>\n",
       "      <td>...</td>\n",
       "      <td>...</td>\n",
       "      <td>...</td>\n",
       "    </tr>\n",
       "    <tr>\n",
       "      <th>13579</th>\n",
       "      <td>-93</td>\n",
       "      <td>-93</td>\n",
       "      <td>15:44:53.080000</td>\n",
       "    </tr>\n",
       "    <tr>\n",
       "      <th>13580</th>\n",
       "      <td>-80</td>\n",
       "      <td>-80</td>\n",
       "      <td>15:44:54.572000</td>\n",
       "    </tr>\n",
       "    <tr>\n",
       "      <th>13581</th>\n",
       "      <td>-89</td>\n",
       "      <td>-89</td>\n",
       "      <td>15:44:54.032000</td>\n",
       "    </tr>\n",
       "    <tr>\n",
       "      <th>13582</th>\n",
       "      <td>-78</td>\n",
       "      <td>-78</td>\n",
       "      <td>15:44:54.210000</td>\n",
       "    </tr>\n",
       "    <tr>\n",
       "      <th>13583</th>\n",
       "      <td>-91</td>\n",
       "      <td>-91</td>\n",
       "      <td>15:44:54.011000</td>\n",
       "    </tr>\n",
       "  </tbody>\n",
       "</table>\n",
       "<p>13584 rows × 3 columns</p>\n",
       "</div>"
      ],
      "text/plain": [
       "       rssiOne  rssiTwo             Time\n",
       "0          -90      -90  15:24:55.147000\n",
       "1          -93      -93  15:24:56.681000\n",
       "2          -88      -88  15:24:55.114000\n",
       "3          -82      -82  15:24:57.508000\n",
       "4          -94      -94  15:24:56.906000\n",
       "...        ...      ...              ...\n",
       "13579      -93      -93  15:44:53.080000\n",
       "13580      -80      -80  15:44:54.572000\n",
       "13581      -89      -89  15:44:54.032000\n",
       "13582      -78      -78  15:44:54.210000\n",
       "13583      -91      -91  15:44:54.011000\n",
       "\n",
       "[13584 rows x 3 columns]"
      ]
     },
     "execution_count": 17,
     "metadata": {},
     "output_type": "execute_result"
    }
   ],
   "source": [
    "df = df.drop(columns=['name', 'locationStatus', 'timestamp'])\n",
    "df"
   ]
  },
  {
   "cell_type": "code",
   "execution_count": 18,
   "id": "b565a4b4",
   "metadata": {},
   "outputs": [
    {
     "data": {
      "text/html": [
       "<div>\n",
       "<style scoped>\n",
       "    .dataframe tbody tr th:only-of-type {\n",
       "        vertical-align: middle;\n",
       "    }\n",
       "\n",
       "    .dataframe tbody tr th {\n",
       "        vertical-align: top;\n",
       "    }\n",
       "\n",
       "    .dataframe thead th {\n",
       "        text-align: right;\n",
       "    }\n",
       "</style>\n",
       "<table border=\"1\" class=\"dataframe\">\n",
       "  <thead>\n",
       "    <tr style=\"text-align: right;\">\n",
       "      <th></th>\n",
       "      <th>rssiOne</th>\n",
       "      <th>rssiTwo</th>\n",
       "    </tr>\n",
       "  </thead>\n",
       "  <tbody>\n",
       "    <tr>\n",
       "      <th>count</th>\n",
       "      <td>13584.000000</td>\n",
       "      <td>13584.000000</td>\n",
       "    </tr>\n",
       "    <tr>\n",
       "      <th>mean</th>\n",
       "      <td>-83.904299</td>\n",
       "      <td>-83.904299</td>\n",
       "    </tr>\n",
       "    <tr>\n",
       "      <th>std</th>\n",
       "      <td>7.609678</td>\n",
       "      <td>7.609678</td>\n",
       "    </tr>\n",
       "    <tr>\n",
       "      <th>min</th>\n",
       "      <td>-105.000000</td>\n",
       "      <td>-105.000000</td>\n",
       "    </tr>\n",
       "    <tr>\n",
       "      <th>25%</th>\n",
       "      <td>-90.000000</td>\n",
       "      <td>-90.000000</td>\n",
       "    </tr>\n",
       "    <tr>\n",
       "      <th>50%</th>\n",
       "      <td>-85.000000</td>\n",
       "      <td>-85.000000</td>\n",
       "    </tr>\n",
       "    <tr>\n",
       "      <th>75%</th>\n",
       "      <td>-78.000000</td>\n",
       "      <td>-78.000000</td>\n",
       "    </tr>\n",
       "    <tr>\n",
       "      <th>max</th>\n",
       "      <td>-56.000000</td>\n",
       "      <td>-56.000000</td>\n",
       "    </tr>\n",
       "  </tbody>\n",
       "</table>\n",
       "</div>"
      ],
      "text/plain": [
       "            rssiOne       rssiTwo\n",
       "count  13584.000000  13584.000000\n",
       "mean     -83.904299    -83.904299\n",
       "std        7.609678      7.609678\n",
       "min     -105.000000   -105.000000\n",
       "25%      -90.000000    -90.000000\n",
       "50%      -85.000000    -85.000000\n",
       "75%      -78.000000    -78.000000\n",
       "max      -56.000000    -56.000000"
      ]
     },
     "execution_count": 18,
     "metadata": {},
     "output_type": "execute_result"
    }
   ],
   "source": [
    "df.describe()"
   ]
  },
  {
   "cell_type": "markdown",
   "id": "5d7de698",
   "metadata": {},
   "source": [
    "Exploring the data set, we notice that the two columns referring to the RSSI registered from each smartphone seem to have the same values. We perform so further investigation to check that."
   ]
  },
  {
   "cell_type": "code",
   "execution_count": 19,
   "id": "c1105951",
   "metadata": {},
   "outputs": [
    {
     "data": {
      "text/html": [
       "<div>\n",
       "<style scoped>\n",
       "    .dataframe tbody tr th:only-of-type {\n",
       "        vertical-align: middle;\n",
       "    }\n",
       "\n",
       "    .dataframe tbody tr th {\n",
       "        vertical-align: top;\n",
       "    }\n",
       "\n",
       "    .dataframe thead th {\n",
       "        text-align: right;\n",
       "    }\n",
       "</style>\n",
       "<table border=\"1\" class=\"dataframe\">\n",
       "  <thead>\n",
       "    <tr style=\"text-align: right;\">\n",
       "      <th></th>\n",
       "      <th>rssiOne</th>\n",
       "      <th>rssiTwo</th>\n",
       "      <th>Time</th>\n",
       "      <th>Diff</th>\n",
       "    </tr>\n",
       "  </thead>\n",
       "  <tbody>\n",
       "  </tbody>\n",
       "</table>\n",
       "</div>"
      ],
      "text/plain": [
       "Empty DataFrame\n",
       "Columns: [rssiOne, rssiTwo, Time, Diff]\n",
       "Index: []"
      ]
     },
     "execution_count": 19,
     "metadata": {},
     "output_type": "execute_result"
    }
   ],
   "source": [
    "df['Diff'] = df['rssiOne'] - df['rssiTwo']\n",
    "df.loc[(df['Diff'] !=0)]"
   ]
  },
  {
   "cell_type": "markdown",
   "id": "d1d6fd4a",
   "metadata": {},
   "source": [
    "The investigation confirms that there are no differences between the values registered by the two smartphones. Therefore, we can drop one column and reshape the data set to enhance readability\n",
    "and usability."
   ]
  },
  {
   "cell_type": "code",
   "execution_count": 20,
   "id": "cd7dfa20",
   "metadata": {},
   "outputs": [
    {
     "data": {
      "text/html": [
       "<div>\n",
       "<style scoped>\n",
       "    .dataframe tbody tr th:only-of-type {\n",
       "        vertical-align: middle;\n",
       "    }\n",
       "\n",
       "    .dataframe tbody tr th {\n",
       "        vertical-align: top;\n",
       "    }\n",
       "\n",
       "    .dataframe thead th {\n",
       "        text-align: right;\n",
       "    }\n",
       "</style>\n",
       "<table border=\"1\" class=\"dataframe\">\n",
       "  <thead>\n",
       "    <tr style=\"text-align: right;\">\n",
       "      <th></th>\n",
       "      <th>rssi</th>\n",
       "      <th>Time</th>\n",
       "    </tr>\n",
       "  </thead>\n",
       "  <tbody>\n",
       "    <tr>\n",
       "      <th>0</th>\n",
       "      <td>-90</td>\n",
       "      <td>15:24:55.147000</td>\n",
       "    </tr>\n",
       "    <tr>\n",
       "      <th>1</th>\n",
       "      <td>-93</td>\n",
       "      <td>15:24:56.681000</td>\n",
       "    </tr>\n",
       "    <tr>\n",
       "      <th>2</th>\n",
       "      <td>-88</td>\n",
       "      <td>15:24:55.114000</td>\n",
       "    </tr>\n",
       "    <tr>\n",
       "      <th>3</th>\n",
       "      <td>-82</td>\n",
       "      <td>15:24:57.508000</td>\n",
       "    </tr>\n",
       "    <tr>\n",
       "      <th>4</th>\n",
       "      <td>-94</td>\n",
       "      <td>15:24:56.906000</td>\n",
       "    </tr>\n",
       "    <tr>\n",
       "      <th>...</th>\n",
       "      <td>...</td>\n",
       "      <td>...</td>\n",
       "    </tr>\n",
       "    <tr>\n",
       "      <th>13579</th>\n",
       "      <td>-93</td>\n",
       "      <td>15:44:53.080000</td>\n",
       "    </tr>\n",
       "    <tr>\n",
       "      <th>13580</th>\n",
       "      <td>-80</td>\n",
       "      <td>15:44:54.572000</td>\n",
       "    </tr>\n",
       "    <tr>\n",
       "      <th>13581</th>\n",
       "      <td>-89</td>\n",
       "      <td>15:44:54.032000</td>\n",
       "    </tr>\n",
       "    <tr>\n",
       "      <th>13582</th>\n",
       "      <td>-78</td>\n",
       "      <td>15:44:54.210000</td>\n",
       "    </tr>\n",
       "    <tr>\n",
       "      <th>13583</th>\n",
       "      <td>-91</td>\n",
       "      <td>15:44:54.011000</td>\n",
       "    </tr>\n",
       "  </tbody>\n",
       "</table>\n",
       "<p>13584 rows × 2 columns</p>\n",
       "</div>"
      ],
      "text/plain": [
       "       rssi             Time\n",
       "0       -90  15:24:55.147000\n",
       "1       -93  15:24:56.681000\n",
       "2       -88  15:24:55.114000\n",
       "3       -82  15:24:57.508000\n",
       "4       -94  15:24:56.906000\n",
       "...     ...              ...\n",
       "13579   -93  15:44:53.080000\n",
       "13580   -80  15:44:54.572000\n",
       "13581   -89  15:44:54.032000\n",
       "13582   -78  15:44:54.210000\n",
       "13583   -91  15:44:54.011000\n",
       "\n",
       "[13584 rows x 2 columns]"
      ]
     },
     "execution_count": 20,
     "metadata": {},
     "output_type": "execute_result"
    }
   ],
   "source": [
    "df = df.drop(columns=['rssiTwo', 'Diff'])\n",
    "df.rename(columns={'rssiOne':'rssi'}, inplace=True)\n",
    "df"
   ]
  },
  {
   "cell_type": "markdown",
   "id": "b71e75ae",
   "metadata": {},
   "source": [
    "## Plotting"
   ]
  },
  {
   "cell_type": "markdown",
   "id": "62d594ce",
   "metadata": {},
   "source": [
    "We create some basic plots to further understand the data set."
   ]
  },
  {
   "cell_type": "code",
   "execution_count": 21,
   "id": "61db345d",
   "metadata": {},
   "outputs": [
    {
     "data": {
      "image/png": "[encoded data removed]",
      "text/plain": [
       "<Figure size 2000x1200 with 1 Axes>"
      ]
     },
     "metadata": {},
     "output_type": "display_data"
    }
   ],
   "source": [
    "histCount = df.hist(column='rssi', figsize=(20, 12))\n",
    "for ax in histCount.flatten():\n",
    "    ax.set_xlabel('RSSI')\n",
    "    ax.set_ylabel('Count')"
   ]
  },
  {
   "cell_type": "code",
   "execution_count": 22,
   "id": "9fcc6a19",
   "metadata": {},
   "outputs": [
    {
     "data": {
      "text/html": [
       "<div>\n",
       "<style scoped>\n",
       "    .dataframe tbody tr th:only-of-type {\n",
       "        vertical-align: middle;\n",
       "    }\n",
       "\n",
       "    .dataframe tbody tr th {\n",
       "        vertical-align: top;\n",
       "    }\n",
       "\n",
       "    .dataframe thead th {\n",
       "        text-align: right;\n",
       "    }\n",
       "</style>\n",
       "<table border=\"1\" class=\"dataframe\">\n",
       "  <thead>\n",
       "    <tr style=\"text-align: right;\">\n",
       "      <th></th>\n",
       "      <th>rssi</th>\n",
       "    </tr>\n",
       "  </thead>\n",
       "  <tbody>\n",
       "    <tr>\n",
       "      <th>count</th>\n",
       "      <td>13584.000000</td>\n",
       "    </tr>\n",
       "    <tr>\n",
       "      <th>mean</th>\n",
       "      <td>-83.904299</td>\n",
       "    </tr>\n",
       "    <tr>\n",
       "      <th>std</th>\n",
       "      <td>7.609678</td>\n",
       "    </tr>\n",
       "    <tr>\n",
       "      <th>min</th>\n",
       "      <td>-105.000000</td>\n",
       "    </tr>\n",
       "    <tr>\n",
       "      <th>25%</th>\n",
       "      <td>-90.000000</td>\n",
       "    </tr>\n",
       "    <tr>\n",
       "      <th>50%</th>\n",
       "      <td>-85.000000</td>\n",
       "    </tr>\n",
       "    <tr>\n",
       "      <th>75%</th>\n",
       "      <td>-78.000000</td>\n",
       "    </tr>\n",
       "    <tr>\n",
       "      <th>max</th>\n",
       "      <td>-56.000000</td>\n",
       "    </tr>\n",
       "  </tbody>\n",
       "</table>\n",
       "</div>"
      ],
      "text/plain": [
       "               rssi\n",
       "count  13584.000000\n",
       "mean     -83.904299\n",
       "std        7.609678\n",
       "min     -105.000000\n",
       "25%      -90.000000\n",
       "50%      -85.000000\n",
       "75%      -78.000000\n",
       "max      -56.000000"
      ]
     },
     "execution_count": 22,
     "metadata": {},
     "output_type": "execute_result"
    }
   ],
   "source": [
    "df.describe()"
   ]
  },
  {
   "cell_type": "markdown",
   "id": "b9312577",
   "metadata": {},
   "source": [
    "The table and the figure show that most of the signals received are on the lower end of the spectrum, i.e., the beacon gets the majority of signals with low power intensity. The max signal strength observed is −55 dBm (decibel milliwatt), which is considered a high enough value for most real work applications. Moreover, the third percentile has a value of −78 dBm reporting an acceptable coverage."
   ]
  },
  {
   "cell_type": "markdown",
   "id": "b88e1a85",
   "metadata": {},
   "source": [
    "We turn the time column into a timestamp manageble from the library in use to improve readibility."
   ]
  },
  {
   "cell_type": "code",
   "execution_count": 23,
   "id": "64a91b69",
   "metadata": {},
   "outputs": [
    {
     "data": {
      "text/plain": [
       "<AxesSubplot:xlabel='Time', ylabel='RSSI'>"
      ]
     },
     "execution_count": 23,
     "metadata": {},
     "output_type": "execute_result"
    },
    {
     "data": {
      "image/png": "[encoded data removed]",
      "text/plain": [
       "<Figure size 2000x1200 with 1 Axes>"
      ]
     },
     "metadata": {},
     "output_type": "display_data"
    }
   ],
   "source": [
    "df['Time'] = df['Time'].apply(pd.Timestamp)\n",
    "df.plot(x='Time',xlabel='Time', y='rssi', ylabel='RSSI', figsize=(20, 12))"
   ]
  },
  {
   "cell_type": "markdown",
   "id": "19a5c5c6",
   "metadata": {},
   "source": [
    "The plot shows a high fluctuation in the signal revealing the presence of a lot of noise, as expected in an indoor environment. Therefore we need to reduce the interference using techniques\n",
    "to smooth the signal. Different possible methods can be used, and the optimal solution highly depends on the specific context and the degree of noise present."
   ]
  },
  {
   "cell_type": "markdown",
   "id": "fe8a51f7",
   "metadata": {},
   "source": [
    "Saving the cleaned dataframe into a *.csv* file."
   ]
  },
  {
   "cell_type": "code",
   "execution_count": 24,
   "id": "47f7374a",
   "metadata": {},
   "outputs": [],
   "source": [
    "df.to_csv('../dataset/clean_data.csv', index=False)"
   ]
  }
 ],
 "metadata": {
  "kernelspec": {
   "display_name": "Python 3.10.5 64-bit",
   "language": "python",
   "name": "python3"
  },
  "language_info": {
   "codemirror_mode": {
    "name": "ipython",
    "version": 3
   },
   "file_extension": ".py",
   "mimetype": "text/x-python",
   "name": "python",
   "nbconvert_exporter": "python",
   "pygments_lexer": "ipython3",
   "version": "3.10.5"
  },
  "vscode": {
   "interpreter": {
    "hash": "04597216c7c6ce914fa7e24de70395c9a2d2c9616fc784be9988fc8cbd5d65d9"
   }
  }
 },
 "nbformat": 4,
 "nbformat_minor": 5
}
